{
  "cells": [
    {
      "cell_type": "code",
      "execution_count": null,
      "id": "9beacd81",
      "metadata": {
        "id": "9beacd81"
      },
      "outputs": [],
      "source": [
        "import numpy as np\n",
        "import matplotlib.pyplot as plt\n",
        "import pandas as pd"
      ]
    },
    {
      "cell_type": "code",
      "execution_count": null,
      "id": "d31d6734",
      "metadata": {
        "id": "d31d6734"
      },
      "outputs": [],
      "source": [
        "df = pd.read_csv(\"C:\\\\Users\\\\Administrator\\\\Downloads\\\\datasetFinal.csv\")"
      ]
    },
    {
      "cell_type": "code",
      "execution_count": null,
      "id": "5847466d",
      "metadata": {
        "id": "5847466d"
      },
      "outputs": [],
      "source": [
        "df.dropna(inplace=True)"
      ]
    },
    {
      "cell_type": "code",
      "execution_count": null,
      "id": "bb003023",
      "metadata": {
        "id": "bb003023"
      },
      "outputs": [],
      "source": [
        "X = df.iloc[:, 3:].values\n",
        "y = df.iloc[:, 2].values"
      ]
    },
    {
      "cell_type": "code",
      "execution_count": null,
      "id": "87b57b3d",
      "metadata": {
        "id": "87b57b3d",
        "outputId": "c6b31368-8d4f-4d99-e6e3-73714dcad319"
      },
      "outputs": [
        {
          "data": {
            "text/plain": [
              "array([[1., 2., 1., ..., 1., 2., 1.],\n",
              "       [0., 0., 0., ..., 2., 6., 1.],\n",
              "       [0., 0., 0., ..., 0., 1., 2.],\n",
              "       ...,\n",
              "       [0., 0., 0., ..., 1., 3., 1.],\n",
              "       [2., 3., 5., ..., 0., 2., 2.],\n",
              "       [0., 0., 0., ..., 1., 4., 1.]])"
            ]
          },
          "execution_count": 30,
          "metadata": {},
          "output_type": "execute_result"
        }
      ],
      "source": [
        "X\n"
      ]
    },
    {
      "cell_type": "code",
      "execution_count": null,
      "id": "61ed20b2",
      "metadata": {
        "id": "61ed20b2",
        "outputId": "6d3b28c7-8011-49ba-cba7-49898b7075e4"
      },
      "outputs": [
        {
          "data": {
            "text/plain": [
              "array([ True,  True,  True, ...,  True,  True,  True])"
            ]
          },
          "execution_count": 31,
          "metadata": {},
          "output_type": "execute_result"
        }
      ],
      "source": [
        "y"
      ]
    },
    {
      "cell_type": "code",
      "execution_count": null,
      "id": "b583e0da",
      "metadata": {
        "id": "b583e0da"
      },
      "outputs": [],
      "source": []
    },
    {
      "cell_type": "code",
      "execution_count": null,
      "id": "40ac0a26",
      "metadata": {
        "id": "40ac0a26"
      },
      "outputs": [],
      "source": [
        "from sklearn.model_selection import train_test_split\n",
        "X_train, X_test, y_train, y_test = train_test_split(X, y, test_size=0.25)"
      ]
    },
    {
      "cell_type": "code",
      "execution_count": null,
      "id": "2cdd19af",
      "metadata": {
        "id": "2cdd19af",
        "outputId": "7f97ab80-9771-49fc-d591-2cf49cfae1a2"
      },
      "outputs": [
        {
          "data": {
            "text/plain": [
              "Counter({True: 515, False: 248})"
            ]
          },
          "execution_count": 33,
          "metadata": {},
          "output_type": "execute_result"
        }
      ],
      "source": [
        "from collections import Counter\n",
        "Counter(y_test)"
      ]
    },
    {
      "cell_type": "code",
      "execution_count": null,
      "id": "acd12f4f",
      "metadata": {
        "id": "acd12f4f"
      },
      "outputs": [],
      "source": [
        "from sklearn.preprocessing import StandardScaler\n",
        "scaler = StandardScaler()\n",
        "scaler.fit(X_train)\n",
        "\n",
        "X_train = scaler.transform(X_train)\n",
        "X_test = scaler.transform(X_test)"
      ]
    },
    {
      "cell_type": "code",
      "execution_count": null,
      "id": "63c8f15b",
      "metadata": {
        "id": "63c8f15b",
        "outputId": "55091d28-7130-401d-e29a-da32399ba453"
      },
      "outputs": [
        {
          "data": {
            "text/plain": [
              "RandomForestClassifier(n_estimators=20, random_state=0)"
            ]
          },
          "execution_count": 35,
          "metadata": {},
          "output_type": "execute_result"
        }
      ],
      "source": [
        "from sklearn.ensemble import RandomForestClassifier\n",
        "RF= RandomForestClassifier(n_estimators=20 , random_state = 0)\n",
        "RF.fit(X_train , y_train)\n",
        "\n"
      ]
    },
    {
      "cell_type": "code",
      "execution_count": null,
      "id": "9abf6ed3",
      "metadata": {
        "id": "9abf6ed3"
      },
      "outputs": [],
      "source": [
        "y_pred = RF.predict(X_test)"
      ]
    },
    {
      "cell_type": "code",
      "execution_count": null,
      "id": "28e72706",
      "metadata": {
        "id": "28e72706",
        "outputId": "229fc902-4d5c-4adc-8228-ab5987c465ac"
      },
      "outputs": [
        {
          "name": "stdout",
          "output_type": "stream",
          "text": [
            "[[148 100]\n",
            " [111 404]]\n",
            "              precision    recall  f1-score   support\n",
            "\n",
            "       False       0.57      0.60      0.58       248\n",
            "        True       0.80      0.78      0.79       515\n",
            "\n",
            "    accuracy                           0.72       763\n",
            "   macro avg       0.69      0.69      0.69       763\n",
            "weighted avg       0.73      0.72      0.72       763\n",
            "\n"
          ]
        }
      ],
      "source": [
        "from sklearn.metrics import classification_report, confusion_matrix\n",
        "print(confusion_matrix(y_test, y_pred))\n",
        "print(classification_report(y_test, y_pred))"
      ]
    },
    {
      "cell_type": "code",
      "execution_count": null,
      "id": "e994c94f",
      "metadata": {
        "id": "e994c94f"
      },
      "outputs": [],
      "source": []
    }
  ],
  "metadata": {
    "kernelspec": {
      "display_name": "Python 3 (ipykernel)",
      "language": "python",
      "name": "python3"
    },
    "language_info": {
      "codemirror_mode": {
        "name": "ipython",
        "version": 3
      },
      "file_extension": ".py",
      "mimetype": "text/x-python",
      "name": "python",
      "nbconvert_exporter": "python",
      "pygments_lexer": "ipython3",
      "version": "3.9.7"
    },
    "colab": {
      "provenance": []
    }
  },
  "nbformat": 4,
  "nbformat_minor": 5
}